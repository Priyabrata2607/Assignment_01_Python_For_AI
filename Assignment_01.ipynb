{
 "cells": [
  {
   "cell_type": "markdown",
   "id": "7114c322",
   "metadata": {},
   "source": [
    "Question1: Write a Python program to determine the largest among three numbers entered by the user."
   ]
  },
  {
   "cell_type": "code",
   "execution_count": 5,
   "id": "2b5bbe0e",
   "metadata": {},
   "outputs": [
    {
     "name": "stdout",
     "output_type": "stream",
     "text": [
      "Enter the First Number: 12\n",
      "Enter the Second Number: 23\n",
      "Enter the Third Number: 8\n",
      "23 is greatest among all.\n"
     ]
    }
   ],
   "source": [
    "num1=int(input('Enter the First Number: '))\n",
    "num2=int(input('Enter the Second Number: '))\n",
    "num3=int(input('Enter the Third Number: '))\n",
    "if num1>num2 and num1>num3:\n",
    "    print(num1,'is greatest among all.')\n",
    "elif num2>num1 and num2>num3:\n",
    "    print(num2,'is greatest among all.')\n",
    "else:\n",
    "    print(num3,'is greatest among all.')"
   ]
  },
  {
   "cell_type": "markdown",
   "id": "885fe6d2",
   "metadata": {},
   "source": [
    "Question2: Write a Python program to check if a given year is a leap year."
   ]
  },
  {
   "cell_type": "code",
   "execution_count": 9,
   "id": "48f0fbbe",
   "metadata": {},
   "outputs": [
    {
     "name": "stdout",
     "output_type": "stream",
     "text": [
      "Enter a year: 1900\n",
      "It's not a leap year.\n"
     ]
    }
   ],
   "source": [
    "year=int(input('Enter a year: '))\n",
    "if year%4==0:\n",
    "    if year%100==0:\n",
    "        if year%400==0:\n",
    "            print(\"It's a leap year.\")\n",
    "        else:\n",
    "            print(\"It's not a leap year.\")\n",
    "    else:\n",
    "        print(\"It's a leap year\")\n",
    "else:\n",
    "    print(\"It's not a leap year.\")\n",
    "            \n",
    "        "
   ]
  },
  {
   "cell_type": "markdown",
   "id": "6c327f7c",
   "metadata": {},
   "source": [
    "Question3:Write a Python program to print the following pattern:\n",
    "\n",
    "1\n",
    "\n",
    "22\n",
    "\n",
    "333\n",
    "\n",
    "4444\n",
    "\n",
    "55555"
   ]
  },
  {
   "cell_type": "code",
   "execution_count": 18,
   "id": "04c29ade",
   "metadata": {},
   "outputs": [
    {
     "name": "stdout",
     "output_type": "stream",
     "text": [
      "Enter a number upto which you want to print the loop: 5\n",
      "1\n",
      "22\n",
      "333\n",
      "4444\n",
      "55555\n"
     ]
    }
   ],
   "source": [
    "num=int(input('Enter a number upto which you want to print the loop: '))\n",
    "for i in range(1,num+1):\n",
    "    for j in range(1,i+1):\n",
    "        print(i,end='')\n",
    "    print()"
   ]
  },
  {
   "cell_type": "raw",
   "id": "82cf66d6",
   "metadata": {},
   "source": [
    "# Question4: Write a Python program to print the following pattern:\n",
    "*\n",
    "**\n",
    "***\n",
    "****\n",
    "*****"
   ]
  },
  {
   "cell_type": "code",
   "execution_count": 19,
   "id": "d32290dc",
   "metadata": {},
   "outputs": [
    {
     "name": "stdout",
     "output_type": "stream",
     "text": [
      "Enter a number upto which you want to print the loop: 5\n",
      "*\n",
      "**\n",
      "***\n",
      "****\n",
      "*****\n"
     ]
    }
   ],
   "source": [
    "num=int(input('Enter a number upto which you want to print the loop: '))\n",
    "for i in range(1,num+1):\n",
    "    for j in range(1,i+1):\n",
    "        print('*',end='')\n",
    "    print()"
   ]
  },
  {
   "cell_type": "raw",
   "id": "87e7aa0e",
   "metadata": {},
   "source": [
    "Question 5: Write a Python program to print the following pattern:\n",
    "    *\n",
    "   **\n",
    "  ***\n",
    " ****\n",
    "*****"
   ]
  },
  {
   "cell_type": "code",
   "execution_count": 25,
   "id": "a70708b2",
   "metadata": {},
   "outputs": [
    {
     "name": "stdout",
     "output_type": "stream",
     "text": [
      "Enter a number upto which you want to print the loop: 5\n",
      "    *\n",
      "   **\n",
      "  ***\n",
      " ****\n",
      "*****\n"
     ]
    }
   ],
   "source": [
    "num=int(input('Enter a number upto which you want to print the loop: '))\n",
    "for i in range(1,num+1):\n",
    "    for j in range(num-i):\n",
    "        print(' ',end='')\n",
    "    for k in range(i):\n",
    "        print('*',end='')\n",
    "    print()"
   ]
  },
  {
   "cell_type": "markdown",
   "id": "b679bafd",
   "metadata": {},
   "source": [
    "Question 6:Write a program that prints the numbers 1 to 100. However, for multiples of 3, print \"Fizz\" instead of the number. For multiples of 5, print \"Buzz\". For numbers that are multiples of both 3 and 5, print \"FizzBuzz\"."
   ]
  },
  {
   "cell_type": "code",
   "execution_count": 27,
   "id": "437fbf17",
   "metadata": {},
   "outputs": [
    {
     "name": "stdout",
     "output_type": "stream",
     "text": [
      "1\n",
      "2\n",
      "Fizz\n",
      "4\n",
      "Buzz\n",
      "Fizz\n",
      "7\n",
      "8\n",
      "Fizz\n",
      "Buzz\n",
      "11\n",
      "Fizz\n",
      "13\n",
      "14\n",
      "FizzBuzz\n",
      "16\n",
      "17\n",
      "Fizz\n",
      "19\n",
      "Buzz\n",
      "Fizz\n",
      "22\n",
      "23\n",
      "Fizz\n",
      "Buzz\n",
      "26\n",
      "Fizz\n",
      "28\n",
      "29\n",
      "FizzBuzz\n",
      "31\n",
      "32\n",
      "Fizz\n",
      "34\n",
      "Buzz\n",
      "Fizz\n",
      "37\n",
      "38\n",
      "Fizz\n",
      "Buzz\n",
      "41\n",
      "Fizz\n",
      "43\n",
      "44\n",
      "FizzBuzz\n",
      "46\n",
      "47\n",
      "Fizz\n",
      "49\n",
      "Buzz\n",
      "Fizz\n",
      "52\n",
      "53\n",
      "Fizz\n",
      "Buzz\n",
      "56\n",
      "Fizz\n",
      "58\n",
      "59\n",
      "FizzBuzz\n",
      "61\n",
      "62\n",
      "Fizz\n",
      "64\n",
      "Buzz\n",
      "Fizz\n",
      "67\n",
      "68\n",
      "Fizz\n",
      "Buzz\n",
      "71\n",
      "Fizz\n",
      "73\n",
      "74\n",
      "FizzBuzz\n",
      "76\n",
      "77\n",
      "Fizz\n",
      "79\n",
      "Buzz\n",
      "Fizz\n",
      "82\n",
      "83\n",
      "Fizz\n",
      "Buzz\n",
      "86\n",
      "Fizz\n",
      "88\n",
      "89\n",
      "FizzBuzz\n",
      "91\n",
      "92\n",
      "Fizz\n",
      "94\n",
      "Buzz\n",
      "Fizz\n",
      "97\n",
      "98\n",
      "Fizz\n",
      "Buzz\n"
     ]
    }
   ],
   "source": [
    "for i in range(1,101):\n",
    "    if(i%3==0 and i%5==0):\n",
    "        print('FizzBuzz')\n",
    "    elif(i%5==0):\n",
    "        print('Buzz')\n",
    "    elif (i%3==0):\n",
    "        print('Fizz')\n",
    "    else:\n",
    "        print(i)"
   ]
  },
  {
   "cell_type": "markdown",
   "id": "202430f5",
   "metadata": {},
   "source": [
    "Question 7:Write a Python program to find the sum of all prime numbers up to n."
   ]
  },
  {
   "cell_type": "code",
   "execution_count": 38,
   "id": "652835ea",
   "metadata": {},
   "outputs": [
    {
     "name": "stdout",
     "output_type": "stream",
     "text": [
      "Enter the range upto which you want to find the sum of all prime numbers: 100\n",
      "The Sum of all Prime numbers upto 100 is 1060\n"
     ]
    }
   ],
   "source": [
    "def is_Prime(num):\n",
    "    if num<=1:\n",
    "        return False\n",
    "    if num==2:\n",
    "        return True\n",
    "    if num%2==0:\n",
    "        return False\n",
    "    for i in range(3,int(num**0.5)+1,2):\n",
    "        if num%i==0:\n",
    "            return False\n",
    "    return True\n",
    "\n",
    "sum=0\n",
    "num=int(input('Enter the range upto which you want to find the sum of all prime numbers: '))\n",
    "for num in range(2,num):\n",
    "    if is_Prime(num):\n",
    "        sum+=num\n",
    "print('The Sum of all Prime numbers upto',n,'is',sum)"
   ]
  },
  {
   "cell_type": "markdown",
   "id": "92263d12",
   "metadata": {},
   "source": [
    "Question 8:Write a Python program to print the Fibonacci sequence up to n terms. The Fibonacci series is a sequence of numbers where each number is the sum of the two preceding ones, usually starting with 0 and 1.\n",
    "\n",
    "0,1,1,2,3,5,8,13,21,34"
   ]
  },
  {
   "cell_type": "code",
   "execution_count": 44,
   "id": "ae802e3f",
   "metadata": {},
   "outputs": [
    {
     "name": "stdout",
     "output_type": "stream",
     "text": [
      "Enter the range to print Fibonacci: 10\n",
      "0,1,1,2,3,5,8,13,21,34,"
     ]
    }
   ],
   "source": [
    "num=int(input('Enter the range to print Fibonacci: '))\n",
    "a=0\n",
    "b=1\n",
    "print(a,end=',')\n",
    "for i in range(1,num):\n",
    "    print(b,end=',')\n",
    "    c=a+b\n",
    "    a=b\n",
    "    b=c"
   ]
  },
  {
   "cell_type": "raw",
   "id": "2107722e",
   "metadata": {},
   "source": [
    "Question 9:Write a Python program to print the following pattern:\n",
    "    *\n",
    "   ***\n",
    "  *****\n",
    " *******\n",
    "*********"
   ]
  },
  {
   "cell_type": "code",
   "execution_count": 49,
   "id": "92b8f43b",
   "metadata": {},
   "outputs": [
    {
     "name": "stdout",
     "output_type": "stream",
     "text": [
      "Enter the number of rows: 5\n",
      "    *\n",
      "   ***\n",
      "  *****\n",
      " *******\n",
      "*********\n"
     ]
    }
   ],
   "source": [
    "row=int(input('Enter the number of rows: '))\n",
    "for i in range(1,row+1):\n",
    "    for j in range(row-i):\n",
    "        print(' ',end='')\n",
    "\n",
    "    for k in range(1,i*2):\n",
    "        print('*',end='')\n",
    "    print()"
   ]
  },
  {
   "cell_type": "raw",
   "id": "8416779d",
   "metadata": {},
   "source": [
    "Question 10:Write a Python program to print the following pattern:\n",
    "    A\n",
    "   BBB\n",
    "  CCCCC\n",
    " DDDDDDD\n",
    "EEEEEEEEE"
   ]
  },
  {
   "cell_type": "code",
   "execution_count": 50,
   "id": "75017611",
   "metadata": {},
   "outputs": [
    {
     "name": "stdout",
     "output_type": "stream",
     "text": [
      "Enter the number of rows: 5\n",
      "    A\n",
      "   BBB\n",
      "  CCCCC\n",
      " DDDDDDD\n",
      "EEEEEEEEE\n"
     ]
    }
   ],
   "source": [
    "row=int(input('Enter the number of rows: '))\n",
    "num=65\n",
    "for i in range(1,row+1):\n",
    "    for j in range(row-i):\n",
    "        print(' ',end='')\n",
    "\n",
    "    for k in range(1,i*2):\n",
    "        print(chr(num),end='')\n",
    "    num+=1\n",
    "    print()"
   ]
  },
  {
   "cell_type": "code",
   "execution_count": null,
   "id": "47c274b4",
   "metadata": {},
   "outputs": [],
   "source": []
  }
 ],
 "metadata": {
  "kernelspec": {
   "display_name": "Python 3 (ipykernel)",
   "language": "python",
   "name": "python3"
  },
  "language_info": {
   "codemirror_mode": {
    "name": "ipython",
    "version": 3
   },
   "file_extension": ".py",
   "mimetype": "text/x-python",
   "name": "python",
   "nbconvert_exporter": "python",
   "pygments_lexer": "ipython3",
   "version": "3.11.5"
  }
 },
 "nbformat": 4,
 "nbformat_minor": 5
}
